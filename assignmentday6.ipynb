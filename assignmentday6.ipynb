{
  "nbformat": 4,
  "nbformat_minor": 0,
  "metadata": {
    "colab": {
      "name": "assignmentday6.ipynb",
      "provenance": [],
      "collapsed_sections": [],
      "authorship_tag": "ABX9TyP0QB20vk6i54lnsPrK+dCG",
      "include_colab_link": true
    },
    "kernelspec": {
      "name": "python3",
      "display_name": "Python 3"
    }
  },
  "cells": [
    {
      "cell_type": "markdown",
      "metadata": {
        "id": "view-in-github",
        "colab_type": "text"
      },
      "source": [
        "<a href=\"https://colab.research.google.com/github/Tarunagg1/codingthunder/blob/master/assignmentday6.ipynb\" target=\"_parent\"><img src=\"https://colab.research.google.com/assets/colab-badge.svg\" alt=\"Open In Colab\"/></a>"
      ]
    },
    {
      "cell_type": "code",
      "metadata": {
        "id": "BEDPm6jpC2Y_",
        "colab_type": "code",
        "colab": {
          "base_uri": "https://localhost:8080/",
          "height": 85
        },
        "outputId": "9383c417-cbe2-476d-ddc8-68ca1f9459e4"
      },
      "source": [
        "class Account:\n",
        "    balance = 0\n",
        "    name = \"\"\n",
        "    def __init__(self,name):\n",
        "        self.name = name\n",
        "        print(\"Welcome your account is created\",name)\n",
        "    def deposit(self,bal):\n",
        "        self.balance += bal\n",
        "        print(f\"{bal} is deposit in {self.name} Accont New balance is: {self.balance}rs\")\n",
        "    def issufficient(self,amt):\n",
        "        if(self.balance >= amt):\n",
        "            return True\n",
        "        else:\n",
        "            return False\n",
        "    def viewbalance(self):\n",
        "        print(f\"Avilable balance in {self.name} Accont is: {self.balance}rs\")\n",
        "        \n",
        "    def withdraw(self,amt):\n",
        "        if(self.issufficient(amt)):\n",
        "            self.balance -= amt\n",
        "            print(f\"{amt}rs withdraw in {self.name} Account new balance is: {self.balance}rs\")\n",
        "        else:\n",
        "            print(f\"Balance is low in {self.name} please deposit first\") \n",
        "            print(f\"Avilable balance in {self.name} is: {self.balance}rs\")\n",
        "\n",
        "tarun = Account(\"tarun\");\n",
        "tarun.deposit(100)\n",
        "tarun.withdraw(10)\n",
        "tarun.deposit(100)\n",
        "\n",
        "\n",
        "# aravind = Account(\"aravind\");\n",
        "# aravind.deposit(10000)\n",
        "# aravind.withdraw(200000)"
      ],
      "execution_count": 9,
      "outputs": [
        {
          "output_type": "stream",
          "text": [
            "Welcome your account is created tarun\n",
            "100 is deposit in tarun Accont New balance is: 100rs\n",
            "10rs withdraw in tarun Account new balance is: 90rs\n",
            "100 is deposit in tarun Accont New balance is: 190rs\n"
          ],
          "name": "stdout"
        }
      ]
    },
    {
      "cell_type": "code",
      "metadata": {
        "id": "wmixukMjC9rD",
        "colab_type": "code",
        "colab": {
          "base_uri": "https://localhost:8080/",
          "height": 51
        },
        "outputId": "7f892982-753c-4313-b4a3-f2f290b999c2"
      },
      "source": [
        "import math\n",
        "class cone:\n",
        "    pi=math.pi\n",
        "    def volume(self,height,radius):\n",
        "        vol = self.pi*(radius*radius)*height/3;\n",
        "        return vol\n",
        "    def surface_area(self,radius,slat_height):\n",
        "        sa = self.pi*radius*slat_height + self.pi*radius*radius\n",
        "        return sa\n",
        "\n",
        "c1 = cone()\n",
        "print(c1.volume(8,6))\n",
        "print(c1.surface_area(5,13))"
      ],
      "execution_count": null,
      "outputs": [
        {
          "output_type": "stream",
          "text": [
            "301.59289474462014\n",
            "282.7433388230814\n"
          ],
          "name": "stdout"
        }
      ]
    },
    {
      "cell_type": "code",
      "metadata": {
        "id": "6hQrq6lNHx9Y",
        "colab_type": "code",
        "colab": {}
      },
      "source": [
        ""
      ],
      "execution_count": null,
      "outputs": []
    }
  ]
}